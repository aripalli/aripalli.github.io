{
 "cells": [
  {
   "cell_type": "code",
   "execution_count": 1,
   "metadata": {
    "collapsed": true
   },
   "outputs": [],
   "source": [
    "import json\n",
    "import pandas as pd\n",
    "import numpy as np\n",
    "from sklearn.cluster import KMeans"
   ]
  },
  {
   "cell_type": "code",
   "execution_count": 2,
   "metadata": {
    "collapsed": true
   },
   "outputs": [],
   "source": [
    "#Create an empty dictionary that can store all the data needed for the visualization.\n",
    "kmeansdict={\"Coordinates\":[],\"K2labels\":[],\"K3labels\":[],\"K4labels\":[],\"K5labels\":[],\"K6labels\":[],\"Mean\":[]}"
   ]
  },
  {
   "cell_type": "code",
   "execution_count": 3,
   "metadata": {
    "collapsed": true
   },
   "outputs": [],
   "source": [
    "#Load the data as a pandas dataframe\n",
    "dat = pd.read_csv(\"SFPD_Incidents_-_from_1_January_2003.csv\")\n",
    "\n",
    "#Discarding bad y data. 90 degrees is an error\n",
    "dat = dat[dat.Y < 90]\n",
    "\n",
    "#Only getting prostitution\n",
    "dat = dat[dat.Category == \"PROSTITUTION\"]"
   ]
  },
  {
   "cell_type": "code",
   "execution_count": 4,
   "metadata": {
    "collapsed": false
   },
   "outputs": [],
   "source": [
    "#Getting the relevant x and y values from the dataframe\n",
    "data = np.array([list(dat[\"X\"]),list(dat[\"Y\"])]).T # Need to be transposed .T\n",
    "\n",
    "#Add the coordinates to the dictionary\n",
    "cordlist=list([list(x) for x in data])\n",
    "kmeansdict[\"Coordinates\"]=cordlist\n",
    "\n",
    "#Set range for chich K's to use.\n",
    "K = range(2,7)\n",
    "\n",
    "for k in K:\n",
    "    #Create the K-Means model and fit it\n",
    "    estimator = KMeans(init='k-means++', n_clusters=k, n_init=10)\n",
    "    modelKM = estimator.fit(data)\n",
    "    #Save the labels and the means of the clusters\n",
    "    kmeansdict[\"Mean\"].append(list([list(x) for x in modelKM.cluster_centers_]))\n",
    "    kmeansdict[\"K\"+str(k)+\"labels\"]=list(modelKM.labels_)"
   ]
  },
  {
   "cell_type": "code",
   "execution_count": 5,
   "metadata": {
    "collapsed": true
   },
   "outputs": [],
   "source": [
    "#Save the data as a .json file\n",
    "with open('kmeansdata.json', 'w') as outfile:\n",
    "    json.dump(kmeansdict, outfile)"
   ]
  }
 ],
 "metadata": {
  "kernelspec": {
   "display_name": "Python 2",
   "language": "python",
   "name": "python2"
  },
  "language_info": {
   "codemirror_mode": {
    "name": "ipython",
    "version": 2
   },
   "file_extension": ".py",
   "mimetype": "text/x-python",
   "name": "python",
   "nbconvert_exporter": "python",
   "pygments_lexer": "ipython2",
   "version": "2.7.13"
  }
 },
 "nbformat": 4,
 "nbformat_minor": 2
}
